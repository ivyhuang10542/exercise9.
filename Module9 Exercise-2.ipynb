{
 "cells": [
  {
   "cell_type": "markdown",
   "metadata": {},
   "source": [
    "### Exercise 1. \n",
    "Create a dictionary named pairs with key value pairs of:\n",
    "    - 'hello' and 'fire', \n",
    "    - 3 and 'seven', \n",
    "    - 'strong' and 45. \n",
    "\n",
    "Then, print out the dictionary."
   ]
  },
  {
   "cell_type": "code",
   "execution_count": 6,
   "metadata": {},
   "outputs": [
    {
     "name": "stdout",
     "output_type": "stream",
     "text": [
      "{'hello': 'fire', 3: 'seven', 'strong': 45}\n"
     ]
    }
   ],
   "source": [
    "pairs ={'hello':'fire', 3:'seven', \"strong\":45}\n",
    "print(pairs)\n",
    "\n"
   ]
  },
  {
   "cell_type": "markdown",
   "metadata": {},
   "source": [
    "### Exercise 2. \n",
    "Add 'welcome' and 56 pair into <b><i>pairs</i></b> dictionary from exercise 1. Then, print out the dictionary. "
   ]
  },
  {
   "cell_type": "code",
   "execution_count": 8,
   "metadata": {},
   "outputs": [
    {
     "name": "stdout",
     "output_type": "stream",
     "text": [
      "{'hello': 'fire', 3: 'seven', 'strong': 45, 'welcome': 56}\n"
     ]
    }
   ],
   "source": [
    "pairs ={'hello':'fire',3:'seven',\"strong\":45}\n",
    "pairs['welcome'] = 56 \n",
    "print(pairs)\n"
   ]
  },
  {
   "cell_type": "markdown",
   "metadata": {},
   "source": [
    "### Exercise 3. \n",
    "Delete one item from <b><i>pairs</i></b> dictionary. Then, print deleted item and the dictionary."
   ]
  },
  {
   "cell_type": "code",
   "execution_count": 9,
   "metadata": {},
   "outputs": [
    {
     "name": "stdout",
     "output_type": "stream",
     "text": [
      "{3: 'seven', 'strong': 45, 'welcome': 56}\n"
     ]
    }
   ],
   "source": [
    "del pairs[\"hello\"]   \n",
    "print(pairs)\n",
    "\n"
   ]
  },
  {
   "cell_type": "markdown",
   "metadata": {},
   "source": [
    "### Exercise 4. \n",
    "Print the value of an item where key is 3 in <b><i>pairs</i></b> dicitonary"
   ]
  },
  {
   "cell_type": "code",
   "execution_count": 10,
   "metadata": {},
   "outputs": [
    {
     "name": "stdout",
     "output_type": "stream",
     "text": [
      "{'strong': 45, 'welcome': 56}\n"
     ]
    }
   ],
   "source": [
    "del pairs[3]  \n",
    "print(pairs)\n",
    "\n"
   ]
  },
  {
   "cell_type": "markdown",
   "metadata": {},
   "source": [
    "### Exercise 5. \n",
    "Try to find out if the key called 'hello' exist in <b><i>pairs</i></b> dictionary. Print 'key is found' message if the key exists otherwise print 'key is not there'."
   ]
  },
  {
   "cell_type": "code",
   "execution_count": 15,
   "metadata": {},
   "outputs": [
    {
     "name": "stdout",
     "output_type": "stream",
     "text": [
      "key is not there\n"
     ]
    }
   ],
   "source": [
    "hello = pairs.get(\"hello\")\n",
    "\n",
    "if hello is None :\n",
    "    print(\"key is not there\")\n",
    "else :    \n",
    "    print(\"key is found\")\n"
   ]
  },
  {
   "cell_type": "markdown",
   "metadata": {},
   "source": [
    "### Exercise 6. \n",
    "Create a Test Scores program that gets the name of students and test score from a user. Then, generate a list of students who passed and a list of students who failed where passing test score is 60 or above. "
   ]
  },
  {
   "cell_type": "code",
   "execution_count": 28,
   "metadata": {},
   "outputs": [
    {
     "name": "stdout",
     "output_type": "stream",
     "text": [
      "student name: y\n",
      "score: 100\n",
      "student name: e\n",
      "score: 4\n",
      "passed ['y']\n",
      "failed ['e']\n"
     ]
    }
   ],
   "source": [
    "testScores = {}\n",
    "\n",
    "for i in range (2):\n",
    "    name=input (\"student name: \")\n",
    "    test=input (\"score: \")\n",
    "    testScores[name] = test\n",
    "    \n",
    "studentsPassed = []\n",
    "studentsFailed = []\n",
    "for name in testScores:\n",
    "    if int(testScores[name]) < 60:\n",
    "        studentsFailed.append(name)\n",
    "    else:\n",
    "        studentsPassed.append(name)\n",
    "\n",
    "        \n",
    "print(\"passed\", studentsPassed)\n",
    "print(\"failed\", studentsFailed)\n",
    "\n",
    "\n"
   ]
  },
  {
   "cell_type": "code",
   "execution_count": null,
   "metadata": {},
   "outputs": [],
   "source": []
  },
  {
   "cell_type": "markdown",
   "metadata": {},
   "source": [
    "### Exercise 7. \n",
    "\n",
    "Create a Word Counter program that gets a string of text from a user and then counts the number of times a word occrs in the string. \n",
    "\n",
    "The output should look something like this:\n",
    "\n",
    "    The Word Counter Program\n",
    "    \n",
    "    Enter a text string: \n",
    "    Humpty Dumpty sat on a wall, Humpty Dumpty had a great fall. All the king’s horses and all the king’s men couldn’t put Humpty together again.\n",
    "\n",
    "    a : 2\n",
    "    again : 1\n",
    "    all : 2\n",
    "    and : 1\n",
    "    couldn’t : 1\n",
    "    dumpty : 2\n",
    "    fall : 1\n",
    "    great : 1\n",
    "    had : 1\n",
    "    horses : 1\n",
    "    humpty : 3\n",
    "    king’s : 2\n",
    "    men : 1\n",
    "    on : 1\n",
    "    put : 1\n",
    "    sat : 1\n",
    "    the : 2\n",
    "    together : 1\n",
    "    wall : 1\n",
    "\n",
    "    There were total 26 words in the text string   "
   ]
  },
  {
   "cell_type": "code",
   "execution_count": 41,
   "metadata": {},
   "outputs": [
    {
     "name": "stdout",
     "output_type": "stream",
     "text": [
      "Input text string: Humpty Dumpty sat on a wall, Humpty Dumpty had a great fall. All the king’s horses and all the king’s men couldn’t put Humpty together again.\n",
      "{'Humpty': 3, 'Dumpty': 2, 'sat': 1, 'on': 1, 'a': 2, 'wall,': 1, 'had': 1, 'great': 1, 'fall.': 1, 'All': 1, 'the': 2, 'king’s': 2, 'horses': 1, 'and': 1, 'all': 1, 'men': 1, 'couldn’t': 1, 'put': 1, 'together': 1, 'again.': 1}\n"
     ]
    }
   ],
   "source": [
    "text=input(\"Input text string: \")\n",
    "\n",
    "wordList = text.split(' ')\n",
    "\n",
    "wordCount = {}\n",
    "for i in range(len(wordList)):\n",
    "    key = wordList[i];\n",
    "    count = 1;\n",
    "    if(key in wordCount):\n",
    "        count = wordCount[key] + 1\n",
    "    wordCount[key] = count\n",
    "        \n",
    "print(wordCount)\n",
    "\n",
    "\n"
   ]
  },
  {
   "cell_type": "code",
   "execution_count": null,
   "metadata": {},
   "outputs": [],
   "source": []
  },
  {
   "cell_type": "code",
   "execution_count": null,
   "metadata": {},
   "outputs": [],
   "source": []
  }
 ],
 "metadata": {
  "kernelspec": {
   "display_name": "Python 3",
   "language": "python",
   "name": "python3"
  },
  "language_info": {
   "codemirror_mode": {
    "name": "ipython",
    "version": 3
   },
   "file_extension": ".py",
   "mimetype": "text/x-python",
   "name": "python",
   "nbconvert_exporter": "python",
   "pygments_lexer": "ipython3",
   "version": "3.8.8"
  }
 },
 "nbformat": 4,
 "nbformat_minor": 4
}
